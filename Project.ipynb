{
 "cells": [
  {
   "cell_type": "code",
   "execution_count": 17,
   "id": "5b472453-ee2b-430d-8290-809f26cce81d",
   "metadata": {},
   "outputs": [],
   "source": [
    "#Introduction"
   ]
  },
  {
   "cell_type": "code",
   "execution_count": 23,
   "id": "428b8f69-c44f-42b7-8fc9-ac692524c08f",
   "metadata": {},
   "outputs": [],
   "source": [
    "import pandas as pd\n",
    "import numpy as np\n",
    "#from sklearn import\n",
    "import csv"
   ]
  },
  {
   "cell_type": "code",
   "execution_count": 35,
   "id": "660d1990-d674-4647-b280-cafdaedd64d4",
   "metadata": {},
   "outputs": [
    {
     "name": "stdout",
     "output_type": "stream",
     "text": [
      "                 Station Name          MAC Address           Org Name  \\\n",
      "0  PALO ALTO CA / HAMILTON #1  000D:6F00:015A:9D76  City of Palo Alto   \n",
      "1  PALO ALTO CA / HAMILTON #1  000D:6F00:015A:9D76  City of Palo Alto   \n",
      "2  PALO ALTO CA / HAMILTON #1  000D:6F00:015A:9D76  City of Palo Alto   \n",
      "3  PALO ALTO CA / HAMILTON #1  000D:6F00:015A:9D76  City of Palo Alto   \n",
      "4  PALO ALTO CA / HAMILTON #1  000D:6F00:015A:9D76  City of Palo Alto   \n",
      "\n",
      "        Start Date Start Time Zone         End Date End Time Zone  \\\n",
      "0  7/29/2011 20:17             PDT  7/29/2011 23:20           PDT   \n",
      "1   7/30/2011 0:00             PDT   7/30/2011 0:02           PDT   \n",
      "2   7/30/2011 8:16             PDT  7/30/2011 12:34           PDT   \n",
      "3  7/30/2011 14:51             PDT  7/30/2011 16:55           PDT   \n",
      "4  7/30/2011 18:51             PDT  7/30/2011 20:03           PDT   \n",
      "\n",
      "  Transaction Date (Pacific Time) Total Duration (hh:mm:ss)  \\\n",
      "0                 7/29/2011 23:20                   3:03:32   \n",
      "1                  7/30/2011 0:02                   0:02:06   \n",
      "2                 7/30/2011 12:34                   4:17:32   \n",
      "3                 7/30/2011 16:55                   2:03:24   \n",
      "4                 7/30/2011 20:03                   1:11:24   \n",
      "\n",
      "  Charging Time (hh:mm:ss)  ...   Longitude  Currency  Fee  \\\n",
      "0                  1:54:03  ... -122.160309       USD  0.0   \n",
      "1                  0:01:54  ... -122.160309       USD  0.0   \n",
      "2                  4:17:28  ... -122.160309       USD  0.0   \n",
      "3                  2:02:58  ... -122.160309       USD  0.0   \n",
      "4                  0:43:54  ... -122.160309       USD  0.0   \n",
      "\n",
      "              Ended By  Plug In Event Id Driver Postal Code  User ID County  \\\n",
      "0  Plug Out at Vehicle                 3            95124.0     3284    NaN   \n",
      "1             Customer                 4            94301.0     4169    NaN   \n",
      "2  Plug Out at Vehicle                 5            94301.0     4169    NaN   \n",
      "3             Customer                 6            94302.0     2545    NaN   \n",
      "4  Plug Out at Vehicle                 7            94043.0     3765    NaN   \n",
      "\n",
      "  System S/N Model Number  \n",
      "0        NaN          NaN  \n",
      "1        NaN          NaN  \n",
      "2        NaN          NaN  \n",
      "3        NaN          NaN  \n",
      "4        NaN          NaN  \n",
      "\n",
      "[5 rows x 33 columns]\n"
     ]
    }
   ],
   "source": [
    "df = pd.read_csv('EVChargingStationUsage.csv', low_memory = False)\n",
    "print(df.head())"
   ]
  },
  {
   "cell_type": "code",
   "execution_count": 41,
   "id": "775caae2-7293-4697-b09f-de49468acca2",
   "metadata": {},
   "outputs": [],
   "source": [
    "#Data pre-processing\n"
   ]
  },
  {
   "cell_type": "code",
   "execution_count": null,
   "id": "5ebee9c4-3fc7-41df-8397-0bd8c82d8b94",
   "metadata": {},
   "outputs": [],
   "source": [
    "#Data Analysis\n",
    "from sklearn import cluster"
   ]
  },
  {
   "cell_type": "code",
   "execution_count": 7,
   "id": "cf13a48b-2151-493c-9489-50d90b3bfc66",
   "metadata": {},
   "outputs": [],
   "source": [
    "#Visualization"
   ]
  },
  {
   "cell_type": "code",
   "execution_count": 9,
   "id": "8c717bd8-2cf0-4b49-a69f-72f230b49624",
   "metadata": {},
   "outputs": [],
   "source": [
    "#Mandatory Component"
   ]
  },
  {
   "cell_type": "code",
   "execution_count": 11,
   "id": "9686e3ed-2175-4aa5-8b94-005f63cb85c0",
   "metadata": {},
   "outputs": [],
   "source": [
    "#Exploratory Component"
   ]
  },
  {
   "cell_type": "code",
   "execution_count": null,
   "id": "777451b5-eb52-4019-9997-459c1fc79d05",
   "metadata": {},
   "outputs": [],
   "source": [
    "#Conclusions"
   ]
  }
 ],
 "metadata": {
  "kernelspec": {
   "display_name": "Python 3 (ipykernel)",
   "language": "python",
   "name": "python3"
  },
  "language_info": {
   "codemirror_mode": {
    "name": "ipython",
    "version": 3
   },
   "file_extension": ".py",
   "mimetype": "text/x-python",
   "name": "python",
   "nbconvert_exporter": "python",
   "pygments_lexer": "ipython3",
   "version": "3.12.4"
  }
 },
 "nbformat": 4,
 "nbformat_minor": 5
}
